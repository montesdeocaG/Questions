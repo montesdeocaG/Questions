{
 "cells": [
  {
   "cell_type": "markdown",
   "metadata": {},
   "source": [
    "## Chapter 5\n",
    "\n",
    "\n",
    "\n",
    "**1.What do you have to do if a leader fails**\n",
    "In the case of a fail you will have do do a tedious failover.\n",
    "If the replication is asynchronous and it is used, then it may be missing some transaction that actually occurred in the leader. It's possible that multiple nodes think they are the leaders, this allows concurrent writes to different parts of the system (split brain). \n",
    "\n",
    "\n",
    "\n",
    "**2.What is the difference between partitioning and replication, name the 3 categories of replication**\n",
    "It's quite simple, in replication you keep multiple copies of the data in several locations, on the other hand with partioning you split one dataset among multiple partitions \n",
    "-Single-leader\n",
    "-Multi-leader\n",
    "-Client-driver\n",
    "\n",
    "\n",
    "\n",
    "**3. What are the 3 different replication lag issues**\n",
    "1. Your user writes and expects to read the data that they just wrote, but if they write to a leader and read from the replica, the new data may not be shown.\n",
    "A way to guarantee this is to have the leader handle read requests for the user owned data. \n",
    "2. A user is reading from the a replica, but then switches to another replica that is out of syncronization. This makes a loop of going backwards in time, for this you requiere monotonic reads, a way to do this is to have the user always read the same replica. \n",
    "3. Causal inconsistency, data may be written to one replica in an specific order then to another in another order. To solve this is to mirror them correctly through all nodes\n",
    "\n",
    "\n",
    "\n",
    "**4.Explain Quorums**\n",
    "Quorum-based voting can be used as a replica control method.\n",
    "Quorums take the most recently updated data point from the nodes that respond to a request. Large quorums are slow, since they are bound by the speed of the lowest respondent, but are more consistent than smaller quorums since they requiere fewer node responses, but are faster. \n",
    "\n",
    "\n",
    " \n",
    "\n",
    "**5. what is shared-memory architecture?**    \n",
    "Its when you join the hardware such as GPU's, CPU's, RAM, harddrives, etc in just one OS.\n",
    "Any CPU may access any part of the shared-memory resources.\n",
    "\n",
    "\n",
    "**6. Explain WAL**\n",
    "WAL is Write Ahead Log, it is a family of techniques for providing atomicity and durability (two of the ACID properties) in database systems. The changes are first recorded in the log, which must be written to stable storage, before the changes are written to the database. It doesnt requiere additional work by the service and deals with statement-based replications problems since WALs will record dumps by nature, to update followers simply push the record dump to it.\n",
    "However record dumps may change at any times, differing between service versions.\n",
    "\n",
    "\n"
   ]
  },
  {
   "cell_type": "code",
   "execution_count": null,
   "metadata": {},
   "outputs": [],
   "source": []
  }
 ],
 "metadata": {
  "kernelspec": {
   "display_name": "Python 3",
   "language": "python",
   "name": "python3"
  },
  "language_info": {
   "codemirror_mode": {
    "name": "ipython",
    "version": 3
   },
   "file_extension": ".py",
   "mimetype": "text/x-python",
   "name": "python",
   "nbconvert_exporter": "python",
   "pygments_lexer": "ipython3",
   "version": "3.7.1"
  }
 },
 "nbformat": 4,
 "nbformat_minor": 2
}
