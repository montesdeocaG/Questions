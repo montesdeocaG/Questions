{
 "cells": [
  {
   "cell_type": "markdown",
   "metadata": {},
   "source": [
    "## Chapter 3\n",
    "\n",
    "\n",
    "\n",
    "**1. Why is it important to understand how data is stored an retrieved in a DB?**\n",
    "\n",
    "Because different databases were designed for different uses, there is plenty of avaibility but not any database will work for your project, depending on the stress and workload that you will be handling you will need to know whats on your engine, just like a car, you shouldn't try to use a nissan versa for racing. You shouldn't use SQL for your social network.\n",
    "\n",
    "\n",
    "**2. Explain logs**  \n",
    "a log is any append-only sequence of records, they might be human or machine only readable, since it is append-only its hard to beat the speed of just appending a file.\n",
    "\n",
    "**3. Explain indexes**  \n",
    " An index is a data structure that speeds up read operations. However, it (usually) slows down writes since it requieres the machine to work on every insert or append operation. \n",
    "\n",
    "**4. Pros VS Cons of combining a hash map and a log** \n",
    "pros\n",
    " Low read and write latency, since both operations are just single operations, we can have predictable timing\n",
    " Easy recover from errors, only the last element may get corrupted.\n",
    " Backup is simple\n",
    "cons\n",
    " Range queries wont be sped up.\n",
    " Index must fit inside the memory, else the performance drops.\n",
    " \n",
    "\n",
    "**5. How should we handle logs?**  \n",
    " If you leave logs unattended, they will grow to infinity. You should split logs into segments and then periodically merge and compact these segments into a merged log using binary encoding \n",
    "\n",
    "\n",
    "**6. What are SS-tables**\n",
    "\n",
    "its a complex log-structured storage implementation, log segments are sorted by key, it uses a in-memory ds, write operations are done on top of the memtable.\n",
    "The memtable is periodically flushed into a new segment and then compacted and merged, keys will be in sorted order, saving time.\n",
    "You no longer need a full index inside the memory, this works well with large databases.\n"
   ]
  },
  {
   "cell_type": "code",
   "execution_count": null,
   "metadata": {},
   "outputs": [],
   "source": []
  }
 ],
 "metadata": {
  "kernelspec": {
   "display_name": "Python 3",
   "language": "python",
   "name": "python3"
  },
  "language_info": {
   "codemirror_mode": {
    "name": "ipython",
    "version": 3
   },
   "file_extension": ".py",
   "mimetype": "text/x-python",
   "name": "python",
   "nbconvert_exporter": "python",
   "pygments_lexer": "ipython3",
   "version": "3.7.1"
  }
 },
 "nbformat": 4,
 "nbformat_minor": 2
}
