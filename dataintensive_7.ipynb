{
 "cells": [
  {
   "cell_type": "markdown",
   "metadata": {},
   "source": [
    "## Chapter 7\n",
    "\n",
    "\n",
    "\n",
    "**1.What is partitioning.**  \n",
    "\n",
    "\n",
    "**2.Partitioning types**  \n",
    "\n",
    "\n",
    "**3. Explain  local secondary index**  \n",
    "\n",
    "\n",
    "**4.Local vs global indexing**  \n",
    "\n",
    " \n",
    "\n",
    "**5. fixed partitions?**      \n",
    "\n",
    "\n",
    "**6. dynamic partitioning**  \n",
    "\n"
   ]
  },
  {
   "cell_type": "code",
   "execution_count": null,
   "metadata": {},
   "outputs": [],
   "source": []
  }
 ],
 "metadata": {
  "kernelspec": {
   "display_name": "Python 3",
   "language": "python",
   "name": "python3"
  },
  "language_info": {
   "codemirror_mode": {
    "name": "ipython",
    "version": 3
   },
   "file_extension": ".py",
   "mimetype": "text/x-python",
   "name": "python",
   "nbconvert_exporter": "python",
   "pygments_lexer": "ipython3",
   "version": "3.7.1"
  }
 },
 "nbformat": 4,
 "nbformat_minor": 2
}
