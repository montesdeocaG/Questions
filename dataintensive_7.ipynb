{
 "cells": [
  {
   "cell_type": "markdown",
   "metadata": {},
   "source": [
    "## Chapter 7\n",
    "\n",
    "**1.How are systems that are not acid called?.**    \n",
    "  \n",
    "Systems that fail to meet the ACID criteria are usually called base. BASE stands for:\n",
    "    -Basically\n",
    "    -Available\n",
    "    -Soft State\n",
    "    -Eventual Consistency \n",
    "  \n",
    "  \n",
    "**2.What are multi-object operations**    \n",
    "  \n",
    "There are either single-object or multi-object operations, an operation is single-object if it touched one record in the DB, a record may refer to a row, a document or a value, if an operation touches multiple records then it is multi-object.\n",
    "Multi-object operations are more difficult to implement than their counterpart since they requiere the maintenance of groups of operations and they are more difficult to work with partitions, you may get away if your project is simple. \n",
    "  \n",
    "  \n",
    "**3.What is snapshot isolation.**    \n",
    "  \n",
    "Snapshot isolation refers to when the reads that happen in the middle of a transaction read their data from the version of the data that preceded at the start of such transaction. Its implemented by using write locks and  read-value holding.\n",
    "This makes multi-object operations to 'appear' atomic to the end user (truly they are not)\n",
    "  \n",
    "  \n",
    "**4.What is read committed?**    \n",
    "  \n",
    "Its an isolation level which job is to prevent dirty reads and dirty writes (when you use data that is in-flight), this prevents you to read values that get rolled back or to read something else. (customer gets a ticket for something they never bought). You can implement this by holding a row level lock on the writing record. \n",
    "  \n",
    "  \n",
    "**5. Why is 2PL bad?.**    \n",
    "  \n",
    "because its very pessimistic and bad performance, long-blocking writes are an issue and deadlocks will mess up everything.\n",
    "Services such as Amazon have completely stopped their usage.\n",
    "  \n",
    "    \n",
    "**6. how to evade phantom skew in 2PL.**    \n",
    "  \n",
    "You can evade it by using predicate locks, locking on all the data in the DB if it matches a certain condition, however, predicate locks are expensive because they requeire a lot of comparing for each concurrent write.\n",
    "Most actual DB use index-range locks instead to simplify it from a complex condition to an index of values. \n",
    "  \n",
    "  "
   ]
  },
  {
   "cell_type": "code",
   "execution_count": null,
   "metadata": {},
   "outputs": [],
   "source": []
  }
 ],
 "metadata": {
  "kernelspec": {
   "display_name": "Python 3",
   "language": "python",
   "name": "python3"
  },
  "language_info": {
   "codemirror_mode": {
    "name": "ipython",
    "version": 3
   },
   "file_extension": ".py",
   "mimetype": "text/x-python",
   "name": "python",
   "nbconvert_exporter": "python",
   "pygments_lexer": "ipython3",
   "version": "3.7.1"
  }
 },
 "nbformat": 4,
 "nbformat_minor": 2
}
