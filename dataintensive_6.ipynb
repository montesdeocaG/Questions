{
 "cells": [
  {
   "cell_type": "markdown",
   "metadata": {},
   "source": [
    "## Chapter 6\n",
    "\n",
    "\n",
    "\n",
    "**1.What is partitioning.**  \n",
    "\n",
    "Partitioning purpose is to scale large datasets, it  is the splitting of data across multiple nodes however it creates a drawback, you will need to avoid hot spots because data is not accessed or written as equals, if you partition too many common sets to the same node you will have performance issues.\n",
    "\n",
    "\n",
    "**2.Partitioning types**  \n",
    "\n",
    "*by key range:* pushing strips of data to the same partitions, but if there are hotspots performance will downgrade. Still, key range are efficient for range queries, as ranges will be on the same node.  \n",
    "*by key hash:* a hash function distributes skewed data, in order to spread data evenly trough the partitions, trough this, hot spots will be avoided however now you've lost range query performance, since you will have to contact all of the nodes\n",
    "\n",
    "\n",
    "**3. Explain  local secondary index**  \n",
    "\n",
    "In this method the secondary index is stored locally with the partitions. The request that query the secondary index must hit all of the nodes to match the fulll index together.\n",
    "\n",
    "\n",
    "**4.Local vs global indexing**  \n",
    "\n",
    "A local index has to hit all of many of the partitions when doing an index based read but wont affect the writing performance, on the other hand, a global index only needs to hit a node that has the global index, but this makes writes slower.\n",
    "\n",
    " \n",
    "\n",
    "**5. fixed partitions?**      \n",
    "\n",
    "its when the partitions exceed the actual nodes, virtual nodes will be created, the node will grab responsability from almost empty partitions from actual partitions. \n",
    "\n",
    "\n",
    "**6. dynamic partitioning**  \n",
    "\n",
    "You specify a max partition size, and data will be split when the partition is close to that size, and it will grow like a dictionary, partitions may stay on a node but will be later transfered to another node. Howeer, this partitioning is not useful when the ds is small.\n",
    "\n",
    "\n"
   ]
  },
  {
   "cell_type": "code",
   "execution_count": null,
   "metadata": {},
   "outputs": [],
   "source": []
  }
 ],
 "metadata": {
  "kernelspec": {
   "display_name": "Python 3",
   "language": "python",
   "name": "python3"
  },
  "language_info": {
   "codemirror_mode": {
    "name": "ipython",
    "version": 3
   },
   "file_extension": ".py",
   "mimetype": "text/x-python",
   "name": "python",
   "nbconvert_exporter": "python",
   "pygments_lexer": "ipython3",
   "version": "3.7.1"
  }
 },
 "nbformat": 4,
 "nbformat_minor": 2
}
