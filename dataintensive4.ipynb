{
 "cells": [
  {
   "cell_type": "markdown",
   "metadata": {},
   "source": [
    "## Chapter 4\n",
    "\n",
    "\n",
    "\n",
    "**1.Why do you need schema evolution**  \n",
    "\n",
    "Because applications will evolve over time, the data that is stored on the database will usually outlive the code that stored it, and when talking about upgrading, server side and client side requiere backward and foward compatibility to make it simpler.\n",
    "\n",
    "\n",
    "**2. Explain JSON and XML**   \n",
    "They are data interchange formats that are meant to be moved between application boundaries, however, since they are human-readable, there are a few drawbacks like they have parsing issues and unefficiency in resources, yet for simple use they are sufficient enough.\n",
    "\n",
    "\n",
    "\n",
    "**3. Explain Binary Data Interchange formats**    \n",
    "Its an improvement to the human-readable format by encoding it as binary formats, like mongoDB stores JSON as BJSON, it provides forward and backwards compability built-in.\n",
    "\n",
    "**4.How does Apache Thrift identifies fields?**   \n",
    "By fieldID, these fields may be skipped if the field is not requiered, by removing it from the encoded byte sequence, however there is a drawback, once assigned it cannot be changed, since it would change past encodings and make them fail. This is for the backwards compatiblity.\n",
    "For foward compatiblity readers use the type annotation to know how many bytes to skip if it finds a type it doesn't know about in a tag.\n",
    "\n",
    "\n",
    " \n",
    "\n",
    "**5. What is dataflow and why is it very important**    \n",
    "Dataflow is the architecture on how data flows through the system, it involves data usage patterns, restrictions, filtering, boundaries and others. It provides control over the input/output and the process that it takes.\n",
    "\n",
    "\n",
    "**6. REST VS SOAP**  \n",
    "These are meant for constraints on web-based services.\n",
    "REST (Representational state transfer) is a software architectural style that remarks on how services built over HTTP/HTTPS should be, by using a uniform and predefined set of stateless operations.\n",
    "SOAP (Simple Object Access Protocol) is XML-based and (technically) http independent, however its commonly used on http. It's purpose is to provide extensibility, neutrality, verbosity and independence. SOAP is declining because of the lower use of XML.\n",
    "\n"
   ]
  },
  {
   "cell_type": "code",
   "execution_count": null,
   "metadata": {},
   "outputs": [],
   "source": []
  }
 ],
 "metadata": {
  "kernelspec": {
   "display_name": "Python 3",
   "language": "python",
   "name": "python3"
  },
  "language_info": {
   "codemirror_mode": {
    "name": "ipython",
    "version": 3
   },
   "file_extension": ".py",
   "mimetype": "text/x-python",
   "name": "python",
   "nbconvert_exporter": "python",
   "pygments_lexer": "ipython3",
   "version": "3.7.1"
  }
 },
 "nbformat": 4,
 "nbformat_minor": 2
}
